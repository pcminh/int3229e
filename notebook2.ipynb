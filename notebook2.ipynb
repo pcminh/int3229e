{
 "cells": [
  {
   "cell_type": "code",
   "execution_count": 1,
   "metadata": {},
   "outputs": [],
   "source": [
    "import os \n",
    "os.environ[\"SPARK_HOME\"] = \"\"\n",
    "\n",
    "import findspark\n",
    "findspark.init()"
   ]
  },
  {
   "cell_type": "code",
   "execution_count": 2,
   "metadata": {},
   "outputs": [
    {
     "name": "stderr",
     "output_type": "stream",
     "text": [
      "your 131072x1 screen size is bogus. expect trouble\n",
      "23/05/24 00:22:18 WARN Utils: Your hostname, pcminh-ThinkPad resolves to a loopback address: 127.0.1.1; using 172.31.163.12 instead (on interface eth0)\n",
      "23/05/24 00:22:18 WARN Utils: Set SPARK_LOCAL_IP if you need to bind to another address\n",
      "Setting default log level to \"WARN\".\n",
      "To adjust logging level use sc.setLogLevel(newLevel). For SparkR, use setLogLevel(newLevel).\n",
      "23/05/24 00:22:20 WARN NativeCodeLoader: Unable to load native-hadoop library for your platform... using builtin-java classes where applicable\n"
     ]
    }
   ],
   "source": [
    "from pyspark.sql import SparkSession\n",
    "from pyspark.sql import functions\n",
    "from pyspark.sql.functions import col, avg\n",
    "\n",
    "spark = SparkSession.builder\\\n",
    "    .appName(\"capstone_project\")\\\n",
    "    .enableHiveSupport()\\\n",
    "    .getOrCreate()"
   ]
  },
  {
   "cell_type": "code",
   "execution_count": 3,
   "metadata": {},
   "outputs": [
    {
     "name": "stdout",
     "output_type": "stream",
     "text": [
      "+---------+\n",
      "|namespace|\n",
      "+---------+\n",
      "|  default|\n",
      "+---------+\n",
      "\n"
     ]
    }
   ],
   "source": [
    "spark.sql(\"SHOW DATABASES\").show()"
   ]
  },
  {
   "cell_type": "code",
   "execution_count": 3,
   "metadata": {},
   "outputs": [],
   "source": [
    "from schemas import redlight_cam_schema, speed_cam_schema, streets_schema, traffic_hist_schema\n",
    "\n",
    "tables = [\n",
    "    'crashes', \n",
    "    'redlight_cam', \n",
    "    'speed_cam', \n",
    "    'streets', \n",
    "    'traffic_hist'\n",
    "]\n",
    "\n",
    "paths = {\n",
    "    table: f'./data/raw/traffic/{table}/{table}.csv'\n",
    "    for table in tables\n",
    "} \n",
    "\n",
    "schemas = {\n",
    "    # 'crashes'\n",
    "    'redlight_cam': redlight_cam_schema,\n",
    "    'speed_cam': speed_cam_schema,\n",
    "    'streets': streets_schema,\n",
    "    'traffic_hist': traffic_hist_schema\n",
    "}\n",
    "\n",
    "def read_table_to_view(spark: SparkSession):\n",
    "    for table in tables:\n",
    "        read_obj = spark.read.format(\"csv\").option(\"header\", \"true\")\n",
    "\n",
    "        if table in schemas:\n",
    "            read_obj = read_obj.schema(schemas[table])\n",
    "        else:\n",
    "            read_obj = read_obj.option(\"inferSchema\", \"true\")\n",
    " \n",
    "        df = read_obj.load(paths[table])\n",
    "        df.createOrReplaceTempView(table)"
   ]
  },
  {
   "cell_type": "code",
   "execution_count": 4,
   "metadata": {},
   "outputs": [
    {
     "name": "stderr",
     "output_type": "stream",
     "text": [
      "23/05/24 00:22:36 WARN package: Truncated the string representation of a plan since it was too large. This behavior can be adjusted by setting 'spark.sql.debug.maxToStringFields'.\n"
     ]
    }
   ],
   "source": [
    "read_table_to_view(spark)"
   ]
  },
  {
   "cell_type": "code",
   "execution_count": 66,
   "metadata": {},
   "outputs": [
    {
     "name": "stdout",
     "output_type": "stream",
     "text": [
      "+--------------------+----------+-------------------+------------+-----+---------+-------------+--------+--------+\n",
      "|congestion_record_id|segment_id|          timestamp|   gmtts_str|speed|bus_count|message_count|date_key|hour_key|\n",
      "+--------------------+----------+-------------------+------------+-----+---------+-------------+--------+--------+\n",
      "|   0260-202304051120|       260|2023-04-05 06:20:57|202304051120|   23|        2|           27|20230405|       6|\n",
      "|   0687-202304051121|       687|2023-04-05 06:21:04|202304051121|   21|        2|           26|20230405|       6|\n",
      "|   0470-202304051121|       470|2023-04-05 06:21:09|202304051121|   27|        3|           24|20230405|       6|\n",
      "|   0102-202304051120|       102|2023-04-05 06:20:43|202304051120|   29|        1|            2|20230405|       6|\n",
      "|   0373-202304051120|       373|2023-04-05 06:20:47|202304051120|   22|        1|            5|20230405|       6|\n",
      "|   1186-202304051121|      1186|2023-04-05 06:21:38|202304051121|   31|        1|            9|20230405|       6|\n",
      "|   0567-202304051120|       567|2023-04-05 06:20:55|202304051120|   29|        2|            7|20230405|       6|\n",
      "|   0504-202304051121|       504|2023-04-05 06:21:14|202304051121|   33|        1|           13|20230405|       6|\n",
      "|   0212-202304051120|       212|2023-04-05 06:20:51|202304051120|   31|        1|           16|20230405|       6|\n",
      "|   0762-202304051121|       762|2023-04-05 06:21:21|202304051121|   29|        1|            5|20230405|       6|\n",
      "|   1235-202304051121|      1235|2023-04-05 06:21:35|202304051121|   30|        2|           17|20230405|       6|\n",
      "|   0780-202304051121|       780|2023-04-05 06:21:24|202304051121|   20|        1|           13|20230405|       6|\n",
      "|   1102-202304051121|      1102|2023-04-05 06:21:33|202304051121|   20|        2|           43|20230405|       6|\n",
      "|   0550-202304051120|       550|2023-04-05 06:20:54|202304051120|   22|        1|            8|20230405|       6|\n",
      "|   0518-202304051121|       518|2023-04-05 06:21:16|202304051121|   33|        5|           17|20230405|       6|\n",
      "|   0228-202304051120|       228|2023-04-05 06:20:52|202304051120|   21|        3|           23|20230405|       6|\n",
      "|   0107-202304051120|       107|2023-04-05 06:20:43|202304051120|   31|        1|            6|20230405|       6|\n",
      "|   1269-202304051121|      1269|2023-04-05 06:21:18|202304051121|   18|        1|           23|20230405|       6|\n",
      "|   0378-202304051120|       378|2023-04-05 06:20:47|202304051120|   23|        2|            8|20230405|       6|\n",
      "|   0970-202304051121|       970|2023-04-05 06:21:32|202304051121|   23|        1|            7|20230405|       6|\n",
      "+--------------------+----------+-------------------+------------+-----+---------+-------------+--------+--------+\n",
      "only showing top 20 rows\n",
      "\n"
     ]
    }
   ],
   "source": [
    "spark.sql(\"\"\"\n",
    "    with f_congestion_batch_staging\n",
    "    as (\n",
    "        select \n",
    "            CAST(format_string('%04d', segment_id) AS string) as segment_padded,\n",
    "            to_timestamp(time, 'MM/dd/yyyy HH:mm:ss a') as timestamp,\n",
    "            date_format(timestamp + INTERVAL 5 HOURS, 'yyyyMMddhhmm') as gmtts_str,\n",
    "            CONCAT_WS('-', segment_padded, gmtts_str) AS congestion_key,\n",
    "            segment_id,\n",
    "            speed,\n",
    "            bus_count,\n",
    "            message_count,\n",
    "            CAST(date_format(timestamp, 'yyyyMMdd') AS INT) as date_key,\n",
    "            CAST(date_format(timestamp, 'hh') AS INT) as hour_key\n",
    "        from traffic_hist\n",
    "    )\n",
    "\n",
    "    select \n",
    "        congestion_key as congestion_record_id,\n",
    "        segment_id, \n",
    "        timestamp,\n",
    "        gmtts_str,\n",
    "        speed,\n",
    "        bus_count,\n",
    "        message_count,\n",
    "        date_key,\n",
    "        hour_key\n",
    "    from f_congestion_batch_staging\n",
    "    where speed > -1\n",
    "\"\"\").show()"
   ]
  },
  {
   "cell_type": "code",
   "execution_count": 68,
   "metadata": {},
   "outputs": [
    {
     "name": "stdout",
     "output_type": "stream",
     "text": [
      "+--------------------+-------------+-------------------+--------------+--------------+------------------+----------------------+--------------------+-----------------+--------------------+--------------------+-----------+--------------------+--------------------+--------+--------------------+--------------------+-------------+---------+----------+---------+--------------------+--------------+--------------+-----------------------+---------------------------+-----------------------------+----------------------+----------------+------------+-------------+\n",
      "|     crash_record_id|report_number|    crash_timestamp|crash_date_key|crash_hour_key|posted_speed_limit|traffic_control_device|    device_condition|weather_condition|  lighting_condition|roadway_surface_cond|road_defect|    first_crash_type|     trafficway_type|lane_cnt|         report_type|          crash_type|       damage|street_no|street_key|num_units|  most_severy_injury|injuries_total|injuries_fatal|injuries_incapacitating|injuries_non_incapacitating|injuries_reported_not_evident|injuries_no_indication|injuries_unknown|    latitude|    longitude|\n",
      "+--------------------+-------------+-------------------+--------------+--------------+------------------+----------------------+--------------------+-----------------+--------------------+--------------------+-----------+--------------------+--------------------+--------+--------------------+--------------------+-------------+---------+----------+---------+--------------------+--------------+--------------+-----------------------+---------------------------+-----------------------------+----------------------+----------------+------------+-------------+\n",
      "|79c7a2ce89f446262...|     JC199149|               null|          null|          null|                30|        TRAFFIC SIGNAL|FUNCTIONING PROPERLY|            CLEAR|            DAYLIGHT|                 DRY| NO DEFECTS|             TURNING|             ONE-WAY|       4|            ON SCENE|INJURY AND / OR T...|  OVER $1,500|      536|      null|        2|REPORTED, NOT EVI...|             1|             0|                      0|                          0|                            1|                     2|               0|41.884547224|-87.641200937|\n",
      "|792b539deaaad65ee...|     JB422857|2018-09-05 08:40:00|      20180905|             8|                30|           NO CONTROLS|         NO CONTROLS|            CLEAR|            DAYLIGHT|                 DRY| NO DEFECTS|               ANGLE|         NOT DIVIDED|       2|NOT ON SCENE (DES...|NO INJURY / DRIVE...|  OVER $1,500|     4821|      null|        2|NO INDICATION OF ...|             0|             0|                      0|                          0|                            0|                     2|               0|41.968562454|-87.740659315|\n",
      "|0115ade9a755e8352...|     JF318029|               null|          null|          null|                30|               UNKNOWN|             UNKNOWN|            CLEAR|DARKNESS, LIGHTED...|                 DRY|    UNKNOWN|               ANGLE|         NOT DIVIDED|    null|            ON SCENE|NO INJURY / DRIVE...|  OVER $1,500|      300|      null|        2|NO INDICATION OF ...|             0|             0|                      0|                          0|                            0|                     2|               0| 41.88633641|-87.716203131|\n",
      "|05b1982cdba5d8a00...|     JF378711|2022-08-29 11:30:00|      20220829|            11|                30|        TRAFFIC SIGNAL|FUNCTIONING PROPERLY|            CLEAR|            DAYLIGHT|                 DRY| NO DEFECTS|            REAR END|            FOUR WAY|    null|NOT ON SCENE (DES...|NO INJURY / DRIVE...|$501 - $1,500|     3939|      null|        2|NO INDICATION OF ...|             0|             0|                      0|                          0|                            0|                     3|               0| 41.74934817|-87.721096727|\n",
      "|017040c61958d2fa9...|     JF324552|               null|          null|          null|                30|        TRAFFIC SIGNAL|FUNCTIONING PROPERLY|            CLEAR|            DAYLIGHT|                 DRY| NO DEFECTS|            REAR END|         NOT DIVIDED|    null|NOT ON SCENE (DES...|NO INJURY / DRIVE...|  OVER $1,500|     2359|      null|        2|NO INDICATION OF ...|             0|             0|                      0|                          0|                            0|                     2|               0|41.925110816|-87.667997322|\n",
      "|78eee027ec3dcc85d...|     JB291672|               null|          null|          null|                30|           NO CONTROLS|         NO CONTROLS|            CLEAR|             UNKNOWN|                 DRY| NO DEFECTS|PARKED MOTOR VEHICLE|             ONE-WAY|       1|            ON SCENE|NO INJURY / DRIVE...|  OVER $1,500|     1630|      null|        2|NO INDICATION OF ...|             0|             0|                      0|                          0|                            0|                     1|               0|41.910757552|-87.731388754|\n",
      "|7943cacbae1bb60e0...|     JF330061|               null|          null|          null|                25|           NO CONTROLS|         NO CONTROLS|            CLEAR|            DAYLIGHT|                 DRY| NO DEFECTS|PARKED MOTOR VEHICLE|             ONE-WAY|    null|            ON SCENE|NO INJURY / DRIVE...|  OVER $1,500|     2817|      null|        2|NO INDICATION OF ...|             0|             0|                      0|                          0|                            0|                     1|               0|41.782638841| -87.69428354|\n",
      "|01aaa759c6bbefd0f...|     JF319819|               null|          null|          null|                40|           NO CONTROLS|         NO CONTROLS|  CLOUDY/OVERCAST|            DAYLIGHT|                 DRY| NO DEFECTS|               ANGLE|DIVIDED - W/MEDIA...|    null|NOT ON SCENE (DES...|NO INJURY / DRIVE...|  OVER $1,500|     5100|      null|        2|NO INDICATION OF ...|             0|             0|                      0|                          0|                            0|                     2|               0|41.975826016|-87.650419778|\n",
      "|7b1537e0a3e166f75...|     JA252488|               null|          null|          null|                30|        TRAFFIC SIGNAL|FUNCTIONING PROPERLY|            CLEAR|            DAYLIGHT|                 DRY| NO DEFECTS|SIDESWIPE OPPOSIT...|         NOT DIVIDED|    null|NOT ON SCENE (DES...|NO INJURY / DRIVE...|$501 - $1,500|     4498|      null|        2|NO INDICATION OF ...|             0|             0|                      0|                          0|                            0|                     2|               0|41.946332274| -87.73915685|\n",
      "|011f2a8e3d1943e19...|     JF408563|               null|          null|          null|                24|           NO CONTROLS|         NO CONTROLS|          UNKNOWN|             UNKNOWN|             UNKNOWN| NO DEFECTS|PARKED MOTOR VEHICLE|             ONE-WAY|    null|            ON SCENE|NO INJURY / DRIVE...|$501 - $1,500|     2606|      null|        2|NO INDICATION OF ...|             0|             0|                      0|                          0|                            0|                     1|               0|41.844149372| -87.71248896|\n",
      "|7b4700df143a2170b...|     JB529385|2018-11-26 10:00:00|      20181126|            10|                30|        TRAFFIC SIGNAL|FUNCTIONING PROPERLY|             SNOW|            DAYLIGHT|       SNOW OR SLUSH| NO DEFECTS|               ANGLE|         NOT DIVIDED|       2|                null|NO INJURY / DRIVE...|  OVER $1,500|     8300|      null|        2|NO INDICATION OF ...|             0|             0|                      0|                          0|                            0|                     2|               0|41.744151639|-87.585945067|\n",
      "|7b3545fb91352d7fc...|     JD298172|2020-07-15 11:45:00|      20200715|            11|                25|        TRAFFIC SIGNAL|FUNCTIONING PROPERLY|            CLEAR|            DAYLIGHT|                 DRY| NO DEFECTS|        PEDALCYCLIST|         NOT DIVIDED|    null|            ON SCENE|INJURY AND / OR T...| $500 OR LESS|      298|      null|        2|NONINCAPACITATING...|             1|             0|                      0|                          1|                            0|                     1|               0|41.876850226|-87.745293891|\n",
      "|79cac9c36c74f5920...|     JA441727|               null|          null|          null|                30|           NO CONTROLS|         NO CONTROLS|            CLEAR|            DAYLIGHT|                 DRY| NO DEFECTS|PARKED MOTOR VEHICLE|         PARKING LOT|    null|NOT ON SCENE (DES...|NO INJURY / DRIVE...|  OVER $1,500|      225|      null|        2|NO INDICATION OF ...|             0|             0|                      0|                          0|                            0|                     1|               0|41.903728284|-87.635568013|\n",
      "|0362b3f8ddb8589df...|     JF318271|2022-07-15 08:44:00|      20220715|             8|                30|           NO CONTROLS|         NO CONTROLS|             RAIN|            DAYLIGHT|                 WET| NO DEFECTS|            REAR END|DIVIDED - W/MEDIA...|    null|NOT ON SCENE (DES...|NO INJURY / DRIVE...|  OVER $1,500|     3458|      null|        2|NO INDICATION OF ...|             0|             0|                      0|                          0|                            0|                     3|               0|41.944198992|-87.747157282|\n",
      "|03d3679ef44bb8aa0...|     JF318956|               null|          null|          null|                30|     STOP SIGN/FLASHER|FUNCTIONING PROPERLY|             RAIN|            DAYLIGHT|                 WET| NO DEFECTS|          PEDESTRIAN|            FOUR WAY|    null|            ON SCENE|INJURY AND / OR T...| $500 OR LESS|     1900|      null|        2|NONINCAPACITATING...|             1|             0|                      0|                          1|                            0|                     1|               0|41.855973929|-87.663860118|\n",
      "|049099b67a37d2ecd...|     JF318460|2022-07-15 11:55:00|      20220715|            11|                35|        TRAFFIC SIGNAL|     NOT FUNCTIONING|             RAIN|            DAYLIGHT|                 WET|    UNKNOWN|             TURNING|         NOT DIVIDED|    null|            ON SCENE|NO INJURY / DRIVE...|  OVER $1,500|     4400|      null|        2|NO INDICATION OF ...|             0|             0|                      0|                          0|                            0|                     2|               0|41.807856045|-87.733434551|\n",
      "|04ca492845376a43f...|     JF319187|               null|          null|          null|                30|           NO CONTROLS|         NO CONTROLS|             RAIN|            DAYLIGHT|                 WET| NO DEFECTS|PARKED MOTOR VEHICLE|         NOT DIVIDED|    null|NOT ON SCENE (DES...|NO INJURY / DRIVE...| $500 OR LESS|      318|      null|        2|NO INDICATION OF ...|             0|             0|                      0|                          0|                            0|                     1|               0|41.877626241|-87.629861971|\n",
      "|102cc8da45c51359b...|     JF375927|2022-08-29 10:00:00|      20220829|            10|                30|        TRAFFIC SIGNAL|FUNCTIONING PROPERLY|            CLEAR|DARKNESS, LIGHTED...|                 DRY| NO DEFECTS|             TURNING|            FOUR WAY|    null|NOT ON SCENE (DES...|NO INJURY / DRIVE...|  OVER $1,500|      232|      null|        2|NO INDICATION OF ...|             0|             0|                      0|                          0|                            0|                     2|               0| 41.79464233|-87.631843416|\n",
      "|05154271961487f57...|     JF319114|               null|          null|          null|                30|               UNKNOWN|             UNKNOWN|             RAIN|            DARKNESS|                 WET|    UNKNOWN|        REAR TO REAR|DIVIDED - W/MEDIA...|    null|            ON SCENE|INJURY AND / OR T...|  OVER $1,500|      401|      null|        2|NO INDICATION OF ...|             0|             0|                      0|                          0|                            0|                     2|               0|41.889284014|-87.626548548|\n",
      "|1076d1e430d73cb31...|     JF375451|               null|          null|          null|                30|        TRAFFIC SIGNAL|FUNCTIONING PROPERLY|            CLEAR|            DAYLIGHT|                 DRY| NO DEFECTS|             TURNING|         NOT DIVIDED|    null|NOT ON SCENE (DES...|NO INJURY / DRIVE...|  OVER $1,500|     2010|      null|        2|NO INDICATION OF ...|             0|             0|                      0|                          0|                            0|                     2|               0|41.855592326|-87.644941152|\n",
      "+--------------------+-------------+-------------------+--------------+--------------+------------------+----------------------+--------------------+-----------------+--------------------+--------------------+-----------+--------------------+--------------------+--------+--------------------+--------------------+-------------+---------+----------+---------+--------------------+--------------+--------------+-----------------------+---------------------------+-----------------------------+----------------------+----------------+------------+-------------+\n",
      "only showing top 20 rows\n",
      "\n"
     ]
    }
   ],
   "source": [
    "spark.sql(\"\"\"\n",
    "    select \n",
    "        crash_record_id as crash_record_id,\n",
    "        rd_no as report_number,\n",
    "        to_timestamp(crash_date, 'MM/dd/yyyy HH:mm:ss a') as crash_timestamp,\n",
    "        CAST(date_format(crash_timestamp, 'yyyyMMdd') AS INT) as crash_date_key,\n",
    "        CAST(date_format(crash_timestamp, 'hh') AS INT) as crash_hour_key,\n",
    "        posted_speed_limit as posted_speed_limit,\n",
    "        traffic_control_device as traffic_control_device,\n",
    "        device_condition as device_condition,\n",
    "        weather_condition as weather_condition,\n",
    "        lighting_condition as lighting_condition,\n",
    "        roadway_surface_cond as roadway_surface_cond,\n",
    "        road_defect as road_defect,\n",
    "        first_crash_type as first_crash_type,\n",
    "        trafficway_type as trafficway_type,\n",
    "        lane_cnt as lane_cnt,\n",
    "        report_type as report_type,\n",
    "        crash_type as crash_type,\n",
    "        damage as damage,\n",
    "        street_no as street_no,\n",
    "        ds.street_key as street_key,\n",
    "        num_units as num_units,\n",
    "        most_severe_injury as most_severy_injury,\n",
    "        injuries_total as injuries_total,\n",
    "        injuries_fatal as injuries_fatal,\n",
    "        injuries_incapacitating as injuries_incapacitating,\n",
    "        injuries_non_incapacitating as injuries_non_incapacitating,\n",
    "        injuries_reported_not_evident as injuries_reported_not_evident,\n",
    "        injuries_no_indication as injuries_no_indication,\n",
    "        injuries_unknown as injuries_unknown,\n",
    "        latitude as latitude,\n",
    "        longitude as longitude\n",
    "    FROM crashes c\n",
    "    LEFT JOIN d_street ds \n",
    "    ON ds.full_street_name LIKE CONCAT(UPPER(c.street_name), '%');\n",
    "\"\"\").show()"
   ]
  }
 ],
 "metadata": {
  "kernelspec": {
   "display_name": "Python 3",
   "language": "python",
   "name": "python3"
  },
  "language_info": {
   "codemirror_mode": {
    "name": "ipython",
    "version": 3
   },
   "file_extension": ".py",
   "mimetype": "text/x-python",
   "name": "python",
   "nbconvert_exporter": "python",
   "pygments_lexer": "ipython3",
   "version": "3.8.10"
  },
  "orig_nbformat": 4
 },
 "nbformat": 4,
 "nbformat_minor": 2
}
