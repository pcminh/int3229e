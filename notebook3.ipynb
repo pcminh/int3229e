{
 "cells": [
  {
   "cell_type": "code",
   "execution_count": 1,
   "metadata": {},
   "outputs": [],
   "source": [
    "import os \n",
    "os.environ[\"SPARK_HOME\"] = \"\"\n",
    "# os.environ['PYSPARK_SUBMIT_ARGS'] = '--packages org.postgresql:postgresql:42.2.10 pyspark-shell'\n",
    "\n",
    "import findspark\n",
    "\n",
    "# findspark.add_packages(\n",
    "#     ['org.postgresql:postgresql:42.2.10']\n",
    "# )\n",
    "findspark.add_jars(\n",
    "    [\n",
    "        'postgresql-42.6.0.jar'\n",
    "    ]\n",
    ")\n",
    "findspark.init()"
   ]
  },
  {
   "cell_type": "code",
   "execution_count": 2,
   "metadata": {},
   "outputs": [
    {
     "name": "stderr",
     "output_type": "stream",
     "text": [
      "your 131072x1 screen size is bogus. expect trouble\n",
      "23/05/24 13:28:29 WARN Utils: Your hostname, pcminh-ThinkPad resolves to a loopback address: 127.0.1.1; using 172.31.163.12 instead (on interface eth0)\n",
      "23/05/24 13:28:29 WARN Utils: Set SPARK_LOCAL_IP if you need to bind to another address\n",
      "23/05/24 13:28:30 WARN NativeCodeLoader: Unable to load native-hadoop library for your platform... using builtin-java classes where applicable\n",
      "Setting default log level to \"WARN\".\n",
      "To adjust logging level use sc.setLogLevel(newLevel). For SparkR, use setLogLevel(newLevel).\n",
      "23/05/24 13:28:31 WARN Utils: Service 'SparkUI' could not bind on port 4040. Attempting port 4041.\n"
     ]
    }
   ],
   "source": [
    "from pyspark.sql import SparkSession\n",
    "from pyspark.sql import functions\n",
    "from pyspark.sql.functions import col, avg\n",
    "\n",
    "spark = SparkSession.builder\\\n",
    "    .appName(\"capstone_project\")\\\n",
    "    .getOrCreate()"
   ]
  },
  {
   "cell_type": "code",
   "execution_count": 3,
   "metadata": {},
   "outputs": [
    {
     "name": "stdout",
     "output_type": "stream",
     "text": [
      "+---------+\n",
      "|namespace|\n",
      "+---------+\n",
      "|  default|\n",
      "+---------+\n",
      "\n"
     ]
    }
   ],
   "source": [
    "spark.sql(\"SHOW DATABASES\").show()"
   ]
  },
  {
   "cell_type": "code",
   "execution_count": 4,
   "metadata": {},
   "outputs": [
    {
     "name": "stderr",
     "output_type": "stream",
     "text": [
      "23/05/24 13:28:40 WARN package: Truncated the string representation of a plan since it was too large. This behavior can be adjusted by setting 'spark.sql.debug.maxToStringFields'.\n"
     ]
    },
    {
     "name": "stdout",
     "output_type": "stream",
     "text": [
      "+---------+------------+-----------+\n",
      "|namespace|   tableName|isTemporary|\n",
      "+---------+------------+-----------+\n",
      "|         |     crashes|       true|\n",
      "|         |redlight_cam|       true|\n",
      "|         |   speed_cam|       true|\n",
      "|         |     streets|       true|\n",
      "|         |traffic_hist|       true|\n",
      "+---------+------------+-----------+\n",
      "\n"
     ]
    }
   ],
   "source": [
    "from batch.rw import read_table_to_view\n",
    "read_table_to_view(spark)\n",
    "spark.sql(\"SHOW TABLES\").show()\n"
   ]
  },
  {
   "cell_type": "code",
   "execution_count": 5,
   "metadata": {},
   "outputs": [],
   "source": [
    "from batch.dimensions import dim_street, dim_camera_stage, dim_camera_map_street, dim_segment, dim_date, dim_hour\n",
    "from batch.facts import fact_violation, fact_crash, fact_congestion_batch"
   ]
  },
  {
   "cell_type": "code",
   "execution_count": 9,
   "metadata": {},
   "outputs": [],
   "source": [
    "d_street = dim_street(spark)"
   ]
  },
  {
   "cell_type": "code",
   "execution_count": 7,
   "metadata": {},
   "outputs": [],
   "source": [
    "d_camera = dim_camera_stage(spark)\n",
    "d_camera = dim_camera_map_street(spark, d_camera, d_street)"
   ]
  },
  {
   "cell_type": "code",
   "execution_count": 10,
   "metadata": {},
   "outputs": [],
   "source": [
    "d_segment = dim_segment(spark, d_street)"
   ]
  },
  {
   "cell_type": "code",
   "execution_count": 12,
   "metadata": {},
   "outputs": [
    {
     "name": "stderr",
     "output_type": "stream",
     "text": [
      "23/05/24 13:31:37 WARN WindowExec: No Partition Defined for Window operation! Moving all data to a single partition, this can cause serious performance degradation.\n",
      "23/05/24 13:31:37 WARN WindowExec: No Partition Defined for Window operation! Moving all data to a single partition, this can cause serious performance degradation.\n",
      "23/05/24 13:32:58 WARN CSVHeaderChecker: CSV header does not conform to the schema.\n",
      " Header: Full Street Name, Direction, Street , Suffix\n",
      " Schema: full_street_name, direction, street, suffix\n",
      "Expected: full_street_name but found: Full Street Name\n",
      "CSV file: file:///home/pcminh/bigdata-capstone/data/raw/traffic/streets/streets.csv\n",
      "23/05/24 13:32:58 WARN WindowExec: No Partition Defined for Window operation! Moving all data to a single partition, this can cause serious performance degradation.\n",
      "23/05/24 13:32:58 WARN WindowExec: No Partition Defined for Window operation! Moving all data to a single partition, this can cause serious performance degradation.\n",
      "                                                                                \r"
     ]
    }
   ],
   "source": [
    "d_segment.repartition(1).write.format('csv').mode('overwrite').save('./data/csv/d_segment.csv')"
   ]
  },
  {
   "cell_type": "code",
   "execution_count": 12,
   "metadata": {},
   "outputs": [],
   "source": [
    "d_date = dim_date(spark)"
   ]
  },
  {
   "cell_type": "code",
   "execution_count": 15,
   "metadata": {},
   "outputs": [],
   "source": [
    "d_hour = dim_hour(spark)"
   ]
  },
  {
   "cell_type": "code",
   "execution_count": 6,
   "metadata": {},
   "outputs": [],
   "source": [
    "f_violation = fact_violation(spark)"
   ]
  },
  {
   "cell_type": "code",
   "execution_count": 13,
   "metadata": {},
   "outputs": [
    {
     "data": {
      "text/plain": [
       "DataFrame[summary: string, camera_id: string, violation_date_key: string, violation_type: string, violations: string]"
      ]
     },
     "execution_count": 13,
     "metadata": {},
     "output_type": "execute_result"
    }
   ],
   "source": [
    "f_violation.describe()"
   ]
  },
  {
   "cell_type": "code",
   "execution_count": 7,
   "metadata": {},
   "outputs": [
    {
     "name": "stderr",
     "output_type": "stream",
     "text": [
      "23/05/24 13:28:51 WARN CSVHeaderChecker: CSV header does not conform to the schema.\n",
      " Header: CAMERA ID, VIOLATION DATE, VIOLATIONS\n",
      " Schema: camera_id, violation_date_mmddyyyy, violations\n",
      "Expected: camera_id but found: CAMERA ID\n",
      "CSV file: file:///home/pcminh/bigdata-capstone/data/raw/traffic/redlight_cam/redlight_cam.csv\n",
      "23/05/24 13:28:54 WARN CSVHeaderChecker: CSV header does not conform to the schema.\n",
      " Header: CAMERA ID, VIOLATION DATE, VIOLATIONS\n",
      " Schema: camera_id, violation_date_mmddyyyy, violations\n",
      "Expected: camera_id but found: CAMERA ID\n",
      "CSV file: file:///home/pcminh/bigdata-capstone/data/raw/traffic/speed_cam/speed_cam.csv\n",
      "                                                                                \r"
     ]
    }
   ],
   "source": [
    "f_violation.repartition(1).write.format('csv').mode('overwrite').save('./data/csv/f_violation.csv')"
   ]
  },
  {
   "cell_type": "code",
   "execution_count": 19,
   "metadata": {},
   "outputs": [],
   "source": [
    "d_date.repartition(1).write.format('csv').mode('overwrite').save('./data/csv/d_date.csv')\n",
    "d_hour.repartition(1).write.format('csv').mode('overwrite').save('./data/csv/d_hour.csv')"
   ]
  }
 ],
 "metadata": {
  "kernelspec": {
   "display_name": "Python 3",
   "language": "python",
   "name": "python3"
  },
  "language_info": {
   "codemirror_mode": {
    "name": "ipython",
    "version": 3
   },
   "file_extension": ".py",
   "mimetype": "text/x-python",
   "name": "python",
   "nbconvert_exporter": "python",
   "pygments_lexer": "ipython3",
   "version": "3.8.10"
  },
  "orig_nbformat": 4
 },
 "nbformat": 4,
 "nbformat_minor": 2
}
