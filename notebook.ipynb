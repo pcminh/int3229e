{
 "cells": [
  {
   "cell_type": "code",
   "execution_count": 16,
   "metadata": {},
   "outputs": [],
   "source": [
    "import os \n",
    "os.environ[\"SPARK_HOME\"] = \"\"\n",
    "\n",
    "import findspark\n",
    "findspark.init()"
   ]
  },
  {
   "cell_type": "code",
   "execution_count": 17,
   "metadata": {},
   "outputs": [],
   "source": [
    "from pyspark.sql import SparkSession\n",
    "from pyspark.sql import functions\n",
    "from pyspark.sql.functions import col, avg\n",
    "\n",
    "spark = SparkSession.builder\\\n",
    "    .appName(\"capstone_project\")\\\n",
    "    .enableHiveSupport()\\\n",
    "    .getOrCreate()"
   ]
  },
  {
   "cell_type": "code",
   "execution_count": 18,
   "metadata": {},
   "outputs": [
    {
     "name": "stdout",
     "output_type": "stream",
     "text": [
      "+---------+\n",
      "|namespace|\n",
      "+---------+\n",
      "|  default|\n",
      "+---------+\n",
      "\n"
     ]
    }
   ],
   "source": [
    "spark.sql(\"SHOW DATABASES\").show()"
   ]
  },
  {
   "cell_type": "code",
   "execution_count": 19,
   "metadata": {},
   "outputs": [],
   "source": [
    "from schemas import redlight_cam_schema, speed_cam_schema, streets_schema, traffic_hist_schema\n",
    "\n",
    "tables = [\n",
    "    'crashes', \n",
    "    'redlight_cam', \n",
    "    'speed_cam', \n",
    "    'streets', \n",
    "    'traffic_hist'\n",
    "]\n",
    "\n",
    "paths = {\n",
    "    table: f'./data/raw/traffic/{table}/{table}.csv'\n",
    "    for table in tables\n",
    "} \n",
    "\n",
    "schemas = {\n",
    "    # 'crashes'\n",
    "    'redlight_cam': redlight_cam_schema,\n",
    "    'speed_cam': speed_cam_schema,\n",
    "    'streets': streets_schema,\n",
    "    'traffic_hist': traffic_hist_schema\n",
    "}\n",
    "\n",
    "def read_table_to_view(spark: SparkSession):\n",
    "    for table in tables:\n",
    "        read_obj = spark.read.format(\"csv\").option(\"header\", \"true\")\n",
    "\n",
    "        if table in schemas:\n",
    "            read_obj = read_obj.schema(schemas[table])\n",
    "        else:\n",
    "            read_obj = read_obj.option(\"inferSchema\", \"true\")\n",
    " \n",
    "        df = read_obj.load(paths[table])\n",
    "        df.createOrReplaceTempView(table)"
   ]
  },
  {
   "cell_type": "code",
   "execution_count": 20,
   "metadata": {},
   "outputs": [
    {
     "name": "stderr",
     "output_type": "stream",
     "text": [
      "                                                                                \r"
     ]
    }
   ],
   "source": [
    "read_table_to_view(spark)"
   ]
  },
  {
   "cell_type": "code",
   "execution_count": 21,
   "metadata": {},
   "outputs": [
    {
     "name": "stdout",
     "output_type": "stream",
     "text": [
      "+---------+----------------+-----------+\n",
      "|namespace|       tableName|isTemporary|\n",
      "+---------+----------------+-----------+\n",
      "|         |         crashes|       true|\n",
      "|         |d_camera_staging|       true|\n",
      "|         |       d_streets|       true|\n",
      "|         |    redlight_cam|       true|\n",
      "|         |       speed_cam|       true|\n",
      "|         |         streets|       true|\n",
      "|         |    traffic_hist|       true|\n",
      "+---------+----------------+-----------+\n",
      "\n"
     ]
    }
   ],
   "source": [
    "spark.sql(\"SHOW TABLES\").show()"
   ]
  },
  {
   "cell_type": "code",
   "execution_count": 145,
   "metadata": {},
   "outputs": [
    {
     "name": "stderr",
     "output_type": "stream",
     "text": [
      "23/05/23 21:41:50 WARN CSVHeaderChecker: CSV header does not conform to the schema.\n",
      " Header: CAMERA ID\n",
      " Schema: camera_id\n",
      "Expected: camera_id but found: CAMERA ID\n",
      "CSV file: file:///home/pcminh/bigdata-capstone/data/raw/traffic/speed_cam/speed_cam.csv\n"
     ]
    },
    {
     "name": "stdout",
     "output_type": "stream",
     "text": [
      "+-------------------------+\n",
      "|count(DISTINCT camera_id)|\n",
      "+-------------------------+\n",
      "|                      177|\n",
      "+-------------------------+\n",
      "\n"
     ]
    },
    {
     "name": "stderr",
     "output_type": "stream",
     "text": [
      "23/05/23 21:41:50 WARN CSVHeaderChecker: CSV header does not conform to the schema.\n",
      " Header: CAMERA ID\n",
      " Schema: camera_id\n",
      "Expected: camera_id but found: CAMERA ID\n",
      "CSV file: file:///home/pcminh/bigdata-capstone/data/raw/traffic/redlight_cam/redlight_cam.csv\n"
     ]
    },
    {
     "name": "stdout",
     "output_type": "stream",
     "text": [
      "+-------------------------+\n",
      "|count(DISTINCT camera_id)|\n",
      "+-------------------------+\n",
      "|                      365|\n",
      "+-------------------------+\n",
      "\n"
     ]
    },
    {
     "name": "stderr",
     "output_type": "stream",
     "text": [
      "                                                                                \r"
     ]
    }
   ],
   "source": [
    "spark.sql(\"SELECT COUNT(DISTINCT camera_id) from speed_cam\").show()\n",
    "spark.sql(\"SELECT COUNT(DISTINCT camera_id) from redlight_cam\").show()"
   ]
  },
  {
   "cell_type": "code",
   "execution_count": 22,
   "metadata": {},
   "outputs": [],
   "source": [
    "from pyspark.sql.functions import regexp_replace, when\n",
    "\n",
    "dcam = spark.sql(\"\"\"\n",
    "with d_cam_speed_upper\n",
    "as (\n",
    "select distinct\n",
    "    camera_id,\n",
    "    \"speed\" as type,\n",
    "    NULL as red_light_intersection,\n",
    "    UPPER(address) as address,\n",
    "    latitude,\n",
    "    longitude\n",
    "from speed_cam\n",
    "where camera_id is not null),\n",
    "\n",
    "d_cam_redlight_upper\n",
    "as (\n",
    "select distinct\n",
    "    camera_id,\n",
    "    \"redlight\" as type,\n",
    "    intersection as red_light_intersection,\n",
    "    UPPER(address) as address,\n",
    "    latitude,\n",
    "    longitude\n",
    "from redlight_cam\n",
    "where camera_id is not null),\n",
    "\n",
    "d_cam_merged\n",
    "as (\n",
    "    select * from d_cam_speed_upper\n",
    "    union \n",
    "    select * from d_cam_redlight_upper\n",
    ")\n",
    "\n",
    "select \n",
    "    *\n",
    "from d_cam_merged\n",
    "\"\"\")\n",
    "\n",
    "\n",
    "dcam = dcam.withColumn(\"address\",\n",
    "                       when(dcam.address.endswith(\"STREET\"), regexp_replace(dcam.address, \"STREET\", \"ST\")) \\\n",
    "                       .when(dcam.address.endswith(\"STREE\"), regexp_replace(dcam.address, \"STREE\", \"ST\")) \\\n",
    "                       .when(dcam.address.endswith(\"AVENUE\"), regexp_replace(dcam.address, \"AVENUE\", \"AVE\")) \\\n",
    "                       .when(dcam.address.endswith(\"AVENU\"), regexp_replace(dcam.address, \"AVENU\", \"AVE\")) \\\n",
    "                       .when(dcam.address.endswith(\"AVEN\"), regexp_replace(dcam.address, \"AVEN\", \"AVE\")) \\\n",
    "                       .when(dcam.address.endswith(\"PARKWAY\"), regexp_replace(dcam.address, \"PARKWAY\", \"PKWY\")) \\\n",
    "                       .when(dcam.address.endswith(\"PARKWA\"), regexp_replace(dcam.address, \"PARKWA\", \"PKWY\")) \\\n",
    "                       .when(dcam.address.endswith(\"ROAD\"), regexp_replace(dcam.address, \"ROAD\", \"RD\")) \\\n",
    "                       .when(dcam.address.endswith(\"ROA\"), regexp_replace(dcam.address, \"ROA\", \"RD\")) \\\n",
    "                       .when(dcam.address.endswith(\"BOULEVARD\"), regexp_replace(dcam.address, \"BOULEVARD\", \"BLVD\")) \\\n",
    "                       .when(dcam.address.endswith(\"BOUL\"), regexp_replace(dcam.address, \"BOUL\", \"BLVD\")) \\\n",
    "                       .when(dcam.address.endswith(\"DRIVE\"), regexp_replace(dcam.address, \"DRIVE\", \"DR\")) \\\n",
    "                       .when(dcam.address.endswith(\"DRIV\"), regexp_replace(dcam.address, \"DRIV\", \"DR\")) \\\n",
    "                       .when(dcam.address.endswith(\"MARTIN LUTHER KING\"), regexp_replace(dcam.address, \"MARTIN LUTHER KING\", \"DR MARTIN LUTHER KING\")) \\\n",
    "                       .when(dcam.address.endswith(\"DR MARTIN L KING\"), regexp_replace(dcam.address, \"DR MARTIN L KING\", \"DR MARTIN LUTHER KING\")) \\\n",
    "                       .when(dcam.address.endswith(\"MARTIN L KING\"), regexp_replace(dcam.address, \"MARTIN L KING\", \"DR MARTIN LUTHER KING\")) \\\n",
    "                       .otherwise(dcam.address)\n",
    "                       )\n",
    "\n",
    "dcam.createOrReplaceTempView(\"d_camera_staging\")\n",
    "\n",
    "dcam = spark.sql(\"\"\"\n",
    "    SELECT\n",
    "        camera_id,\n",
    "        type,\n",
    "        red_light_intersection,\n",
    "        address,\n",
    "        split(UPPER(address), ' ') as addr_toks, \n",
    "        CAST(addr_toks[0] AS INT) as addr_no, \n",
    "        concat_ws(' ', filter(addr_toks , (x,i) -> i > 0)) as street_name,\n",
    "        latitude,\n",
    "        longitude\n",
    "    FROM d_camera_staging\n",
    "\"\"\")\n",
    "\n",
    "streets = spark.sql(\"\"\"\n",
    "    select \n",
    "        row_number() over (order by street asc, suffix asc, direction asc) as street_key,\n",
    "        UPPER(full_street_name) as full_street_name,\n",
    "        UPPER(direction) as direction,\n",
    "        UPPER(street) as street,\n",
    "        UPPER(suffix) as suffix,\n",
    "        UPPER(suffix_direction) as suffix_direction,\n",
    "        min_address as min_address,\n",
    "        max_address as max_address\n",
    "    from streets\n",
    "\"\"\")"
   ]
  },
  {
   "cell_type": "code",
   "execution_count": 9,
   "metadata": {},
   "outputs": [
    {
     "name": "stderr",
     "output_type": "stream",
     "text": [
      "23/05/25 23:54:06 WARN CSVHeaderChecker: CSV header does not conform to the schema.\n",
      " Header: ADDRESS, CAMERA ID, LATITUDE, LONGITUDE\n",
      " Schema: address, camera_id, latitude, longitude\n",
      "Expected: camera_id but found: CAMERA ID\n",
      "CSV file: file:///home/pcminh/bigdata-capstone/data/raw/traffic/speed_cam/speed_cam.csv\n",
      "23/05/25 23:54:07 WARN CSVHeaderChecker: CSV header does not conform to the schema.\n",
      " Header: INTERSECTION, CAMERA ID, ADDRESS, LATITUDE, LONGITUDE\n",
      " Schema: intersection, camera_id, address, latitude, longitude\n",
      "Expected: camera_id but found: CAMERA ID\n",
      "CSV file: file:///home/pcminh/bigdata-capstone/data/raw/traffic/redlight_cam/redlight_cam.csv\n",
      "[Stage 5:=========>                                               (2 + 10) / 12]\r"
     ]
    },
    {
     "name": "stdout",
     "output_type": "stream",
     "text": [
      "+---------+-----+----------------------+--------------------+--------------------+-------+-------------------+------------+-------------+\n",
      "|camera_id| type|red_light_intersection|             address|           addr_toks|addr_no|        street_name|    latitude|    longitude|\n",
      "+---------+-----+----------------------+--------------------+--------------------+-------+-------------------+------------+-------------+\n",
      "|   CHI188|speed|                  null|   6935 W ADDISON ST|[6935, W, ADDISON...|   6935|       W ADDISON ST|41.945293896|-87.799816069|\n",
      "|   CHI128|speed|                  null|  1226 N WESTERN AVE|[1226, N, WESTERN...|   1226|      N WESTERN AVE|41.903817103|-87.687194998|\n",
      "|   CHI010|speed|                  null|     1111 N HUMBOLDT| [1111, N, HUMBOLDT]|   1111|         N HUMBOLDT|        null|         null|\n",
      "|   CHI154|speed|                  null|     2416 W 103RD ST|[2416, W, 103RD, ST]|   2416|         W 103RD ST|41.706487201|-87.682391059|\n",
      "|   CHI180|speed|                  null|7157 S SOUTH CHIC...|[7157, S, SOUTH, ...|   7157|S SOUTH CHICAGO AVE|41.764775432|-87.603827682|\n",
      "|   CHI141|speed|                  null|      3542 E 95TH ST| [3542, E, 95TH, ST]|   3542|          E 95TH ST| 41.72304462|-87.537040758|\n",
      "|   CHI020|speed|                  null|    2912 W ROOSEVELT|[2912, W, ROOSEVELT]|   2912|        W ROOSEVELT|41.866585283|-87.698962375|\n",
      "|   CHI058|speed|                  null|      5816 W JACKSON|  [5816, W, JACKSON]|   5816|          W JACKSON|41.877189405|-87.770369502|\n",
      "|   CHI068|speed|                  null|      5529 S WESTERN|  [5529, S, WESTERN]|   5529|          S WESTERN|        null|         null|\n",
      "|   CHI162|speed|                  null|   1117 S PULASKI RD|[1117, S, PULASKI...|   1117|       S PULASKI RD|41.867401835|-87.725083688|\n",
      "|   CHI201|speed|                  null|2501 W IRVING PAR...|[2501, W, IRVING,...|   2501|   W IRVING PARK RD| 41.95389316|-87.690933468|\n",
      "|   CHI022|speed|                  null|   11153 S VINCENNES|[11153, S, VINCEN...|  11153|        S VINCENNES|41.690701951|-87.664122385|\n",
      "|   CHI192|speed|                  null|   6020 W FOSTER AVE|[6020, W, FOSTER,...|   6020|       W FOSTER AVE|41.975775196|-87.779020068|\n",
      "|   CHI120|speed|                  null|10318 S INDIANAPOLIS|[10318, S, INDIAN...|  10318|     S INDIANAPOLIS|41.707576903|-87.529848261|\n",
      "|   CHI071|speed|                  null|      7833 S PULASKI|  [7833, S, PULASKI]|   7833|          S PULASKI| 41.75038453|-87.721794539|\n",
      "|   CHI075|speed|                  null|       141 N ASHLAND|   [141, N, ASHLAND]|    141|          N ASHLAND|41.884517408|-87.666748347|\n",
      "|   CHI135|speed|                  null|  2108 S WESTERN AVE|[2108, S, WESTERN...|   2108|      S WESTERN AVE|41.853572622|-87.685827855|\n",
      "|   CHI051|speed|                  null|      6523 N WESTERN|  [6523, N, WESTERN]|   6523|          N WESTERN|42.000259511|-87.689802909|\n",
      "|   CHI042|speed|                  null|    5446 W FULLERTON|[5446, W, FULLERTON]|   5446|        W FULLERTON|41.924128491|-87.762993999|\n",
      "|   CHI198|speed|                  null|  2223 N KEDZIE BLVD|[2223, N, KEDZIE,...|   2223|      N KEDZIE BLVD|41.921841178|-87.706978686|\n",
      "+---------+-----+----------------------+--------------------+--------------------+-------+-------------------+------------+-------------+\n",
      "only showing top 20 rows\n",
      "\n"
     ]
    },
    {
     "name": "stderr",
     "output_type": "stream",
     "text": [
      "                                                                                \r"
     ]
    }
   ],
   "source": [
    "dcam.show()"
   ]
  },
  {
   "cell_type": "code",
   "execution_count": 26,
   "metadata": {},
   "outputs": [],
   "source": [
    "streets.createOrReplaceTempView(\"d_streets\")\n",
    "dcam.createOrReplaceTempView(\"d_camera_staging\")\n",
    "\n",
    "dcam2 = spark.sql(\"\"\"\n",
    "    SELECT \n",
    "        camera_id, \n",
    "        type, \n",
    "        red_light_intersection, \n",
    "        address, \n",
    "        street_key, \n",
    "        latitude, \n",
    "        longitude\n",
    "    FROM \n",
    "        d_camera_staging dcs\n",
    "    LEFT JOIN\n",
    "        d_streets ds\n",
    "    ON ds.full_street_name LIKE CONCAT(dcs.street_name, '%')\n",
    "\"\"\")"
   ]
  },
  {
   "cell_type": "code",
   "execution_count": null,
   "metadata": {},
   "outputs": [],
   "source": [
    "spark.sql(\"select * from d_street where full_street_name like \")"
   ]
  },
  {
   "cell_type": "code",
   "execution_count": 24,
   "metadata": {},
   "outputs": [
    {
     "name": "stderr",
     "output_type": "stream",
     "text": [
      "23/05/26 00:01:00 WARN CSVHeaderChecker: CSV header does not conform to the schema.\n",
      " Header: ADDRESS, CAMERA ID, LATITUDE, LONGITUDE\n",
      " Schema: address, camera_id, latitude, longitude\n",
      "Expected: camera_id but found: CAMERA ID\n",
      "CSV file: file:///home/pcminh/bigdata-capstone/data/raw/traffic/speed_cam/speed_cam.csv\n",
      "23/05/26 00:01:00 WARN CSVHeaderChecker: CSV header does not conform to the schema.\n",
      " Header: Full Street Name\n",
      " Schema: full_street_name\n",
      "Expected: full_street_name but found: Full Street Name\n",
      "CSV file: file:///home/pcminh/bigdata-capstone/data/raw/traffic/streets/streets.csv\n",
      "23/05/26 00:01:00 WARN CSVHeaderChecker: CSV header does not conform to the schema.\n",
      " Header: INTERSECTION, CAMERA ID, ADDRESS, LATITUDE, LONGITUDE\n",
      " Schema: intersection, camera_id, address, latitude, longitude\n",
      "Expected: camera_id but found: CAMERA ID\n",
      "CSV file: file:///home/pcminh/bigdata-capstone/data/raw/traffic/redlight_cam/redlight_cam.csv\n",
      "                                                                                \r"
     ]
    },
    {
     "data": {
      "text/plain": [
       "547"
      ]
     },
     "execution_count": 24,
     "metadata": {},
     "output_type": "execute_result"
    }
   ],
   "source": [
    "dcam2.count()"
   ]
  },
  {
   "cell_type": "code",
   "execution_count": 27,
   "metadata": {},
   "outputs": [
    {
     "name": "stderr",
     "output_type": "stream",
     "text": [
      "23/05/26 00:01:47 WARN WindowExec: No Partition Defined for Window operation! Moving all data to a single partition, this can cause serious performance degradation.\n",
      "23/05/26 00:01:47 WARN WindowExec: No Partition Defined for Window operation! Moving all data to a single partition, this can cause serious performance degradation.\n",
      "23/05/26 00:01:47 WARN CSVHeaderChecker: CSV header does not conform to the schema.\n",
      " Header: ADDRESS, CAMERA ID, LATITUDE, LONGITUDE\n",
      " Schema: address, camera_id, latitude, longitude\n",
      "Expected: camera_id but found: CAMERA ID\n",
      "CSV file: file:///home/pcminh/bigdata-capstone/data/raw/traffic/speed_cam/speed_cam.csv\n",
      "23/05/26 00:01:47 WARN CSVHeaderChecker: CSV header does not conform to the schema.\n",
      " Header: INTERSECTION, CAMERA ID, ADDRESS, LATITUDE, LONGITUDE\n",
      " Schema: intersection, camera_id, address, latitude, longitude\n",
      "Expected: camera_id but found: CAMERA ID\n",
      "CSV file: file:///home/pcminh/bigdata-capstone/data/raw/traffic/redlight_cam/redlight_cam.csv\n",
      "23/05/26 00:01:48 WARN WindowExec: No Partition Defined for Window operation! Moving all data to a single partition, this can cause serious performance degradation.\n",
      "23/05/26 00:01:48 WARN WindowExec: No Partition Defined for Window operation! Moving all data to a single partition, this can cause serious performance degradation.\n",
      "23/05/26 00:01:49 WARN CSVHeaderChecker: CSV header does not conform to the schema.\n",
      " Header: Full Street Name, Direction, Street , Suffix\n",
      " Schema: full_street_name, direction, street, suffix\n",
      "Expected: full_street_name but found: Full Street Name\n",
      "CSV file: file:///home/pcminh/bigdata-capstone/data/raw/traffic/streets/streets.csv\n",
      "23/05/26 00:01:49 WARN WindowExec: No Partition Defined for Window operation! Moving all data to a single partition, this can cause serious performance degradation.\n",
      "23/05/26 00:01:49 WARN WindowExec: No Partition Defined for Window operation! Moving all data to a single partition, this can cause serious performance degradation.\n",
      "                                                                                \r"
     ]
    },
    {
     "name": "stdout",
     "output_type": "stream",
     "text": [
      "+---------+-----+----------------------+--------------------+----------+------------+-------------+\n",
      "|camera_id| type|red_light_intersection|             address|street_key|    latitude|    longitude|\n",
      "+---------+-----+----------------------+--------------------+----------+------------+-------------+\n",
      "|   CHI188|speed|                  null|   6935 W ADDISON ST|       470|41.945293896|-87.799816069|\n",
      "|   CHI128|speed|                  null|  1226 N WESTERN AVE|      2533|41.903817103|-87.687194998|\n",
      "|   CHI128|speed|                  null|  1226 N WESTERN AVE|      2534|41.903817103|-87.687194998|\n",
      "|   CHI010|speed|                  null|     1111 N HUMBOLDT|      1312|        null|         null|\n",
      "|   CHI010|speed|                  null|     1111 N HUMBOLDT|      1313|        null|         null|\n",
      "|   CHI010|speed|                  null|     1111 N HUMBOLDT|      1314|        null|         null|\n",
      "|   CHI010|speed|                  null|     1111 N HUMBOLDT|      1315|        null|         null|\n",
      "|   CHI154|speed|                  null|     2416 W 103RD ST|        16|41.706487201|-87.682391059|\n",
      "|   CHI180|speed|                  null|7157 S SOUTH CHIC...|      2318|41.764775432|-87.603827682|\n",
      "|   CHI141|speed|                  null|      3542 E 95TH ST|       437| 41.72304462|-87.537040758|\n",
      "|   CHI020|speed|                  null|    2912 W ROOSEVELT|      2236|41.866585283|-87.698962375|\n",
      "|   CHI058|speed|                  null|      5816 W JACKSON|      1375|41.877189405|-87.770369502|\n",
      "|   CHI068|speed|                  null|      5529 S WESTERN|      2535|        null|         null|\n",
      "|   CHI068|speed|                  null|      5529 S WESTERN|      2536|        null|         null|\n",
      "|   CHI068|speed|                  null|      5529 S WESTERN|      2537|        null|         null|\n",
      "|   CHI162|speed|                  null|   1117 S PULASKI RD|      2178|41.867401835|-87.725083688|\n",
      "|   CHI201|speed|                  null|2501 W IRVING PAR...|      1372| 41.95389316|-87.690933468|\n",
      "|   CHI022|speed|                  null|   11153 S VINCENNES|      2457|41.690701951|-87.664122385|\n",
      "|   CHI192|speed|                  null|   6020 W FOSTER AVE|      1141|41.975775196|-87.779020068|\n",
      "|   CHI120|speed|                  null|10318 S INDIANAPOLIS|      1363|41.707576903|-87.529848261|\n",
      "+---------+-----+----------------------+--------------------+----------+------------+-------------+\n",
      "only showing top 20 rows\n",
      "\n"
     ]
    }
   ],
   "source": [
    "dcam2.show()"
   ]
  },
  {
   "cell_type": "code",
   "execution_count": 156,
   "metadata": {},
   "outputs": [
    {
     "name": "stderr",
     "output_type": "stream",
     "text": [
      "23/05/23 21:48:23 WARN WindowExec: No Partition Defined for Window operation! Moving all data to a single partition, this can cause serious performance degradation.\n",
      "23/05/23 21:48:23 WARN WindowExec: No Partition Defined for Window operation! Moving all data to a single partition, this can cause serious performance degradation.\n",
      "23/05/23 21:48:23 WARN CSVHeaderChecker: CSV header does not conform to the schema.\n",
      " Header: ADDRESS, CAMERA ID, LATITUDE, LONGITUDE\n",
      " Schema: address, camera_id, latitude, longitude\n",
      "Expected: camera_id but found: CAMERA ID\n",
      "CSV file: file:///home/pcminh/bigdata-capstone/data/raw/traffic/speed_cam/speed_cam.csv\n",
      "23/05/23 21:48:23 WARN CSVHeaderChecker: CSV header does not conform to the schema.\n",
      " Header: Full Street Name\n",
      " Schema: full_street_name\n",
      "Expected: full_street_name but found: Full Street Name\n",
      "CSV file: file:///home/pcminh/bigdata-capstone/data/raw/traffic/streets/streets.csv\n",
      "23/05/23 21:48:23 WARN CSVHeaderChecker: CSV header does not conform to the schema.\n",
      " Header: ADDRESS, CAMERA ID, LATITUDE, LONGITUDE\n",
      " Schema: address, camera_id, latitude, longitude\n",
      "Expected: camera_id but found: CAMERA ID\n",
      "CSV file: file:///home/pcminh/bigdata-capstone/data/raw/traffic/speed_cam/speed_cam.csv\n",
      "23/05/23 21:48:24 WARN WindowExec: No Partition Defined for Window operation! Moving all data to a single partition, this can cause serious performance degradation.\n",
      "23/05/23 21:48:24 WARN WindowExec: No Partition Defined for Window operation! Moving all data to a single partition, this can cause serious performance degradation.\n",
      "23/05/23 21:48:24 WARN WindowExec: No Partition Defined for Window operation! Moving all data to a single partition, this can cause serious performance degradation.\n",
      "23/05/23 21:48:24 WARN WindowExec: No Partition Defined for Window operation! Moving all data to a single partition, this can cause serious performance degradation.\n",
      "23/05/23 21:48:24 WARN WindowExec: No Partition Defined for Window operation! Moving all data to a single partition, this can cause serious performance degradation.\n",
      "23/05/23 21:48:24 WARN WindowExec: No Partition Defined for Window operation! Moving all data to a single partition, this can cause serious performance degradation.\n",
      "23/05/23 21:48:24 WARN CSVHeaderChecker: CSV header does not conform to the schema.\n",
      " Header: INTERSECTION, CAMERA ID, ADDRESS, LATITUDE, LONGITUDE\n",
      " Schema: intersection, camera_id, address, latitude, longitude\n",
      "Expected: camera_id but found: CAMERA ID\n",
      "CSV file: file:///home/pcminh/bigdata-capstone/data/raw/traffic/redlight_cam/redlight_cam.csv\n",
      "23/05/23 21:48:24 WARN WindowExec: No Partition Defined for Window operation! Moving all data to a single partition, this can cause serious performance degradation.\n",
      "23/05/23 21:48:24 WARN WindowExec: No Partition Defined for Window operation! Moving all data to a single partition, this can cause serious performance degradation.\n",
      "23/05/23 21:48:24 WARN WindowExec: No Partition Defined for Window operation! Moving all data to a single partition, this can cause serious performance degradation.\n",
      "23/05/23 21:48:24 WARN WindowExec: No Partition Defined for Window operation! Moving all data to a single partition, this can cause serious performance degradation.\n",
      "23/05/23 21:48:25 WARN CSVHeaderChecker: CSV header does not conform to the schema.\n",
      " Header: INTERSECTION, CAMERA ID, ADDRESS, LATITUDE, LONGITUDE\n",
      " Schema: intersection, camera_id, address, latitude, longitude\n",
      "Expected: camera_id but found: CAMERA ID\n",
      "CSV file: file:///home/pcminh/bigdata-capstone/data/raw/traffic/redlight_cam/redlight_cam.csv\n",
      "23/05/23 21:48:25 WARN WindowExec: No Partition Defined for Window operation! Moving all data to a single partition, this can cause serious performance degradation.\n",
      "23/05/23 21:48:26 WARN WindowExec: No Partition Defined for Window operation! Moving all data to a single partition, this can cause serious performance degradation.\n",
      "23/05/23 21:48:26 WARN CSVHeaderChecker: CSV header does not conform to the schema.\n",
      " Header: Full Street Name, Direction, Street , Suffix\n",
      " Schema: full_street_name, direction, street, suffix\n",
      "Expected: full_street_name but found: Full Street Name\n",
      "CSV file: file:///home/pcminh/bigdata-capstone/data/raw/traffic/streets/streets.csv\n",
      "23/05/23 21:48:26 WARN WindowExec: No Partition Defined for Window operation! Moving all data to a single partition, this can cause serious performance degradation.\n",
      "23/05/23 21:48:26 WARN WindowExec: No Partition Defined for Window operation! Moving all data to a single partition, this can cause serious performance degradation.\n",
      "                                                                                \r"
     ]
    },
    {
     "name": "stdout",
     "output_type": "stream",
     "text": [
      "+---------+--------+----------------------+--------------------+----------+------------+-------------+\n",
      "|camera_id|    type|red_light_intersection|             address|street_key|    latitude|    longitude|\n",
      "+---------+--------+----------------------+--------------------+----------+------------+-------------+\n",
      "|   CHI133|   speed|                  null|    19 W CHICAGO AVE|      null|41.896556107|-87.629025904|\n",
      "|   CHI126|   speed|                  null|   319 E ILLINOIS ST|      null|41.890910096|-87.619347521|\n",
      "|   CHI126|   speed|                  null|   324 E ILLINOIS ST|      null|41.891134484| -87.61908944|\n",
      "|   CHI133|   speed|                  null|    11 E CHICAGO AVE|      null|41.896574581|-87.627695378|\n",
      "|     1421|redlight|    DAMEN AND DIVERSEY|2000 W DIVERSEY PKWY|      null|41.932394164|-87.678173031|\n",
      "|     1421|redlight|  LARAMIE AND FULLE...|  2400 N LARAMIE AVE|      null|41.924151874|-87.756294662|\n",
      "|     2462|redlight|  STONEY ISLAND AND...|7900 S STONY ISLA...|      null|41.751460603|-87.585971993|\n",
      "|     2054|redlight|  VAN BUREN AND WES...| 2400 W VAN BUREN ST|      null|41.876191975|-87.686337852|\n",
      "|     2054|redlight|  VAN BUREN AND WES...| 2400 W VAN BUREN ST|      null|        null|         null|\n",
      "|     2462|redlight|  STONEY ISLAND AND...|7900 S STONEY ISLAND|      null|41.751460603|-87.585971993|\n",
      "+---------+--------+----------------------+--------------------+----------+------------+-------------+\n",
      "\n"
     ]
    }
   ],
   "source": [
    "dcam2.createOrReplaceTempView(\"d_camera\")\n",
    "\n",
    "spark.sql(\"\"\"\n",
    "    select * from d_camera\n",
    "    where camera_id in\n",
    "    (select \n",
    "        camera_id\n",
    "    from d_camera\n",
    "    group by camera_id\n",
    "    having count(camera_id) > 1)\n",
    "\"\"\").show()"
   ]
  },
  {
   "cell_type": "code",
   "execution_count": 159,
   "metadata": {},
   "outputs": [
    {
     "name": "stderr",
     "output_type": "stream",
     "text": [
      "23/05/23 21:51:05 WARN CSVHeaderChecker: CSV header does not conform to the schema.\n",
      " Header: CAMERA ID, ADDRESS\n",
      " Schema: camera_id, address\n",
      "Expected: camera_id but found: CAMERA ID\n",
      "CSV file: file:///home/pcminh/bigdata-capstone/data/raw/traffic/redlight_cam/redlight_cam.csv\n"
     ]
    },
    {
     "name": "stdout",
     "output_type": "stream",
     "text": [
      "+--------------------+\n",
      "|             address|\n",
      "+--------------------+\n",
      "|2400 W VAN BUREN ...|\n",
      "|2400 W VAN BUREN ...|\n",
      "+--------------------+\n",
      "\n"
     ]
    }
   ],
   "source": [
    "spark.sql(\"select distinct address from redlight_cam where camera_id = 2054\").show()"
   ]
  },
  {
   "cell_type": "code",
   "execution_count": 140,
   "metadata": {},
   "outputs": [
    {
     "name": "stdout",
     "output_type": "stream",
     "text": [
      "+----------+--------------------+---------+------------------+------+----------------+-----------+-----------+\n",
      "|street_key|    full_street_name|direction|            street|suffix|suffix_direction|min_address|max_address|\n",
      "+----------+--------------------+---------+------------------+------+----------------+-----------+-----------+\n",
      "|      1334| W I55 PULASKI RD ER|        W|    I55 PULASKI RD|    ER|                |       3700|       4499|\n",
      "|      1335| W I55 PULASKI RD XR|        W|    I55 PULASKI RD|    XR|                |       3725|       4399|\n",
      "|      1511|N KENNEDY PULASKI...|        N|KENNEDY PULASKI RD|    ER|                |       3800|       3899|\n",
      "|      1512|N KENNEDY PULASKI...|        N|KENNEDY PULASKI RD|    XR|                |       3828|       3999|\n",
      "|      2177|        N PULASKI RD|        N|           PULASKI|    RD|                |          1|       6399|\n",
      "|      2178|        S PULASKI RD|        S|           PULASKI|    RD|                |          1|      11499|\n",
      "+----------+--------------------+---------+------------------+------+----------------+-----------+-----------+\n",
      "\n"
     ]
    },
    {
     "name": "stderr",
     "output_type": "stream",
     "text": [
      "23/05/23 21:32:59 WARN WindowExec: No Partition Defined for Window operation! Moving all data to a single partition, this can cause serious performance degradation.\n",
      "23/05/23 21:32:59 WARN WindowExec: No Partition Defined for Window operation! Moving all data to a single partition, this can cause serious performance degradation.\n",
      "23/05/23 21:32:59 WARN WindowExec: No Partition Defined for Window operation! Moving all data to a single partition, this can cause serious performance degradation.\n",
      "23/05/23 21:32:59 WARN CSVHeaderChecker: CSV header does not conform to the schema.\n",
      " Header: Full Street Name, Direction, Street , Suffix, Suffix Direction, Min Address, Max Address\n",
      " Schema: full_street_name, direction, street, suffix, suffix_direction, min_address, max_address\n",
      "Expected: full_street_name but found: Full Street Name\n",
      "CSV file: file:///home/pcminh/bigdata-capstone/data/raw/traffic/streets/streets.csv\n",
      "23/05/23 21:32:59 WARN WindowExec: No Partition Defined for Window operation! Moving all data to a single partition, this can cause serious performance degradation.\n",
      "23/05/23 21:32:59 WARN WindowExec: No Partition Defined for Window operation! Moving all data to a single partition, this can cause serious performance degradation.\n"
     ]
    }
   ],
   "source": [
    "streets.filter(\"full_street_name LIKE '%PULASKI%'\").show()"
   ]
  },
  {
   "cell_type": "code",
   "execution_count": 32,
   "metadata": {},
   "outputs": [
    {
     "name": "stderr",
     "output_type": "stream",
     "text": [
      "23/05/23 20:40:13 WARN WindowExec: No Partition Defined for Window operation! Moving all data to a single partition, this can cause serious performance degradation.\n",
      "23/05/23 20:40:13 WARN WindowExec: No Partition Defined for Window operation! Moving all data to a single partition, this can cause serious performance degradation.\n",
      "23/05/23 20:40:13 WARN CSVHeaderChecker: CSV header does not conform to the schema.\n",
      " Header: ADDRESS, CAMERA ID, LATITUDE, LONGITUDE\n",
      " Schema: address, camera_id, latitude, longitude\n",
      "Expected: camera_id but found: CAMERA ID\n",
      "CSV file: file:///home/pcminh/bigdata-capstone/data/raw/traffic/speed_cam/speed_cam.csv\n",
      "23/05/23 20:40:14 WARN CSVHeaderChecker: CSV header does not conform to the schema.\n",
      " Header: INTERSECTION, CAMERA ID, ADDRESS, LATITUDE, LONGITUDE\n",
      " Schema: intersection, camera_id, address, latitude, longitude\n",
      "Expected: camera_id but found: CAMERA ID\n",
      "CSV file: file:///home/pcminh/bigdata-capstone/data/raw/traffic/redlight_cam/redlight_cam.csv\n",
      "23/05/23 20:40:14 WARN WindowExec: No Partition Defined for Window operation! Moving all data to a single partition, this can cause serious performance degradation.\n",
      "23/05/23 20:40:14 WARN WindowExec: No Partition Defined for Window operation! Moving all data to a single partition, this can cause serious performance degradation.\n",
      "23/05/23 20:40:15 WARN CSVHeaderChecker: CSV header does not conform to the schema.\n",
      " Header: Full Street Name, Direction, Street , Suffix\n",
      " Schema: full_street_name, direction, street, suffix\n",
      "Expected: full_street_name but found: Full Street Name\n",
      "CSV file: file:///home/pcminh/bigdata-capstone/data/raw/traffic/streets/streets.csv\n",
      "23/05/23 20:40:15 WARN WindowExec: No Partition Defined for Window operation! Moving all data to a single partition, this can cause serious performance degradation.\n",
      "23/05/23 20:40:15 WARN WindowExec: No Partition Defined for Window operation! Moving all data to a single partition, this can cause serious performance degradation.\n",
      "                                                                                \r"
     ]
    },
    {
     "name": "stdout",
     "output_type": "stream",
     "text": [
      "+---------+-----+----------------------+--------------------+----------+------------+-------------+\n",
      "|camera_id| type|red_light_intersection|             address|street_key|    latitude|    longitude|\n",
      "+---------+-----+----------------------+--------------------+----------+------------+-------------+\n",
      "|   CHI014|speed|                  null|       6909 S KEDZIE|      null|41.767731869|-87.702737907|\n",
      "|   CHI070|speed|                  null|         2513 W 55TH|      null|41.793702249|-87.687244272|\n",
      "|   CHI022|speed|                  null|   11153 S VINCENNES|      null|41.690701951|-87.664122385|\n",
      "|   CHI079|speed|                  null|  2705 W IRVING PARK|      null|41.953875265|-87.696204089|\n",
      "|   CHI045|speed|                  null|         445 W 127TH|      null|41.663174059|-87.633520452|\n",
      "|   CHI059|speed|                  null|      5433 S PULASKI|      null|41.794045046|-87.723036363|\n",
      "|   CHI071|speed|                  null|      7833 S PULASKI|      null| 41.75038453|-87.721794539|\n",
      "|   CHI028|speed|                  null|      2549 W ADDISON|      null|41.946607822| -87.69265244|\n",
      "|   CHI004|speed|                  null|      5120 N PULASKI|      null|41.974332655|-87.728347022|\n",
      "|   CHI067|speed|                  null|         2550 W 79TH|      null|41.750212593|-87.687421063|\n",
      "|   CHI102|speed|                  null|      5471 W HIGGINS|      null|41.969247149|-87.764019451|\n",
      "|   CHI058|speed|                  null|      5816 W JACKSON|      null|41.877189405|-87.770369502|\n",
      "|   CHI062|speed|                  null|         4040 W 55TH|      null|41.793300512|-87.724790362|\n",
      "|   CHI013|speed|                  null|5330 S COTTAGE GROVE|      null|41.797703886|-87.606444779|\n",
      "|   CHI136|speed|                  null|       346 W 76th ST|      null|41.756374355|-87.633816585|\n",
      "|   CHI042|speed|                  null|    5446 W FULLERTON|      null|41.924128491|-87.762993999|\n",
      "|   CHI040|speed|                  null|    6250 W FULLERTON|      null|41.923831699|-87.782642242|\n",
      "|   CHI019|speed|                  null|    2917 W ROOSEVELT|      null|41.866364024|-87.699142966|\n",
      "|   CHI009|speed|                  null|      3646 W MADISON|      null|41.880938186|-87.717898449|\n",
      "|   CHI026|speed|                  null|      3521 N WESTERN|      null|41.945574091|-87.688077853|\n",
      "+---------+-----+----------------------+--------------------+----------+------------+-------------+\n",
      "only showing top 20 rows\n",
      "\n"
     ]
    }
   ],
   "source": [
    "dcam2.filter(\"street_key IS NULL\").selectExpr(\"camera_id\", \"type\", \"red_light_intersection\", \"address\", \"street_key\", \"latitude\", \"longitude\").show()"
   ]
  },
  {
   "cell_type": "code",
   "execution_count": 166,
   "metadata": {},
   "outputs": [
    {
     "name": "stderr",
     "output_type": "stream",
     "text": [
      "23/05/23 22:09:03 WARN CSVHeaderChecker: CSV header does not conform to the schema.\n",
      " Header: CAMERA ID, VIOLATION DATE, VIOLATIONS\n",
      " Schema: camera_id, violation_date_mmddyyyy, violations\n",
      "Expected: camera_id but found: CAMERA ID\n",
      "CSV file: file:///home/pcminh/bigdata-capstone/data/raw/traffic/redlight_cam/redlight_cam.csv\n",
      "23/05/23 22:09:04 WARN CSVHeaderChecker: CSV header does not conform to the schema.\n",
      " Header: CAMERA ID, VIOLATION DATE, VIOLATIONS\n",
      " Schema: camera_id, violation_date_mmddyyyy, violations\n",
      "Expected: camera_id but found: CAMERA ID\n",
      "CSV file: file:///home/pcminh/bigdata-capstone/data/raw/traffic/speed_cam/speed_cam.csv\n",
      "[Stage 941:===============================>                      (14 + 10) / 24]\r"
     ]
    },
    {
     "name": "stdout",
     "output_type": "stream",
     "text": [
      "+---------+------------------+--------------+----------+\n",
      "|camera_id|violation_date_key|violation_type|violations|\n",
      "+---------+------------------+--------------+----------+\n",
      "|     1533|          20140715|      redlight|         2|\n",
      "|     1234|          20140802|      redlight|        17|\n",
      "|     1623|          20140723|      redlight|         3|\n",
      "|     2054|          20140726|      redlight|         7|\n",
      "|     1503|          20140731|      redlight|         2|\n",
      "|     2054|          20141012|      redlight|         5|\n",
      "|     2552|          20141211|      redlight|        12|\n",
      "|     1581|          20140818|      redlight|         2|\n",
      "|     2764|          20190222|      redlight|         2|\n",
      "|     2662|          20140821|      redlight|         1|\n",
      "|     2764|          20140828|      redlight|         3|\n",
      "|     1153|          20140901|      redlight|         3|\n",
      "|     1234|          20150410|      redlight|         5|\n",
      "|     1701|          20190606|      redlight|         1|\n",
      "|     1934|          20141209|      redlight|         3|\n",
      "|     1192|          20190405|      redlight|         2|\n",
      "|     2321|          20190607|      redlight|         6|\n",
      "|     2592|          20140919|      redlight|         2|\n",
      "|     2404|          20190607|      redlight|         3|\n",
      "|     1743|          20190607|      redlight|         5|\n",
      "+---------+------------------+--------------+----------+\n",
      "only showing top 20 rows\n",
      "\n"
     ]
    },
    {
     "name": "stderr",
     "output_type": "stream",
     "text": [
      "                                                                                \r"
     ]
    }
   ],
   "source": [
    "spark.sql(\"\"\"\n",
    "with f_violation_redlight_staging \n",
    "as (\n",
    "    select \n",
    "        camera_id,\n",
    "        violation_date_mmddyyyy,\n",
    "        to_date(violation_date_mmddyyyy, \"MM/dd/yyyy\") as violation_date,\n",
    "        date_format(violation_date, \"yyyyMMdd\") as violation_date_key,\n",
    "        \"redlight\" as violation_type,\n",
    "        violations\n",
    "    from redlight_cam\n",
    "),\n",
    "\n",
    "f_violation_speed_staging \n",
    "as (\n",
    "    select \n",
    "        camera_id,\n",
    "        violation_date_mmddyyyy,\n",
    "        to_date(violation_date_mmddyyyy, \"MM/dd/yyyy\") as violation_date,\n",
    "        date_format(violation_date, \"yyyyMMdd\") as violation_date_key,\n",
    "        \"speed\" as violation_type,\n",
    "        violations\n",
    "    from speed_cam\n",
    "),\n",
    "\n",
    "f_violation_staging_merged\n",
    "as (\n",
    "    select * from f_violation_redlight_staging\n",
    "    union\n",
    "    select * from f_violation_speed_staging \n",
    ")\n",
    "\n",
    "select \n",
    "    camera_id,\n",
    "    violation_date_key,\n",
    "    violation_type,\n",
    "    violations\n",
    "from f_violation_staging_merged\n",
    "\n",
    "\"\"\").show()"
   ]
  }
 ],
 "metadata": {
  "kernelspec": {
   "display_name": "Python 3",
   "language": "python",
   "name": "python3"
  },
  "language_info": {
   "codemirror_mode": {
    "name": "ipython",
    "version": 3
   },
   "file_extension": ".py",
   "mimetype": "text/x-python",
   "name": "python",
   "nbconvert_exporter": "python",
   "pygments_lexer": "ipython3",
   "version": "3.8.10"
  },
  "orig_nbformat": 4
 },
 "nbformat": 4,
 "nbformat_minor": 2
}
